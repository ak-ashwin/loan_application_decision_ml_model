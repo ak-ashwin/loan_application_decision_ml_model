{
 "cells": [
  {
   "cell_type": "code",
   "execution_count": 3,
   "metadata": {},
   "outputs": [],
   "source": [
    "\n",
    "business_id = \"maruthiprovisionstoreAQYPP8727H\""
   ]
  },
  {
   "cell_type": "code",
   "execution_count": 4,
   "metadata": {},
   "outputs": [
    {
     "ename": "NameError",
     "evalue": "name 'db_init' is not defined",
     "output_type": "error",
     "traceback": [
      "\u001b[0;31m---------------------------------------------------------------------------\u001b[0m",
      "\u001b[0;31mNameError\u001b[0m                                 Traceback (most recent call last)",
      "\u001b[0;32m<ipython-input-4-037024e2a117>\u001b[0m in \u001b[0;36m<module>\u001b[0;34m()\u001b[0m\n\u001b[1;32m      1\u001b[0m \u001b[0;34m\u001b[0m\u001b[0m\n\u001b[0;32m----> 2\u001b[0;31m \u001b[0mdb\u001b[0m \u001b[0;34m=\u001b[0m \u001b[0mdb_init\u001b[0m\u001b[0;34m(\u001b[0m\u001b[0;34m)\u001b[0m\u001b[0;34m\u001b[0m\u001b[0;34m\u001b[0m\u001b[0m\n\u001b[0m\u001b[1;32m      3\u001b[0m \u001b[0;34m\u001b[0m\u001b[0m\n\u001b[1;32m      4\u001b[0m \u001b[0;31m# scf invoice get business_id for that invoice\u001b[0m\u001b[0;34m\u001b[0m\u001b[0;34m\u001b[0m\u001b[0;34m\u001b[0m\u001b[0m\n\u001b[1;32m      5\u001b[0m \u001b[0mcas_business\u001b[0m \u001b[0;34m=\u001b[0m \u001b[0mdb\u001b[0m\u001b[0;34m[\u001b[0m\u001b[0;34m'cas_business'\u001b[0m\u001b[0;34m]\u001b[0m\u001b[0;34m\u001b[0m\u001b[0;34m\u001b[0m\u001b[0m\n",
      "\u001b[0;31mNameError\u001b[0m: name 'db_init' is not defined"
     ]
    }
   ],
   "source": [
    "\n",
    "db = db_init()\n",
    "\n",
    "# scf invoice get business_id for that invoice\n",
    "cas_business = db['cas_business']\n",
    "data = cas_business.find({\"business_id\": business_id}, no_cursor_timeout=True).sort(\"_id\", pymongo.DESCENDING).limit(1)\n",
    "for i, row in enumerate(data):\n",
    "    date_of_birth = str(row['business_partners'][0]['date_of_birth'])\n",
    "    print(\"date_of_birth : \" + str(date_of_birth))\n",
    "\n"
   ]
  },
  {
   "cell_type": "code",
   "execution_count": 1,
   "metadata": {
    "pycharm": {
     "is_executing": false
    }
   },
   "outputs": [],
   "source": [
    "# 1. get age from 0th business partner - cas business\n",
    "# 2. latest_cibil_score - cas business "
   ]
  },
  {
   "cell_type": "code",
   "execution_count": null,
   "metadata": {
    "pycharm": {}
   },
   "outputs": [],
   "source": [
    "lms_limit_master=[\"limit_amount_sanctioned\",\n",
    "\"no_credit_bounces\",\n",
    "\"no_credit_bounces_last_6_months\",\n",
    "\"no_credit_bounces_last_3_months\",\n",
    "\"back_to_back_bounces_last_3_months\"]\n",
    "\n",
    "cas_business=[\"age\",\n",
    "             \"latest_cibil_score\"]"
   ]
  },
  {
   "cell_type": "code",
   "execution_count": null,
   "metadata": {
    "pycharm": {}
   },
   "outputs": [],
   "source": [
    "# [\"limit_amount_sanctioned\",\n",
    "# \"no_credit_bounces\",\n",
    "# \"age\",\n",
    "# \"no_credit_bounces_last_6_months\",\n",
    "# \"category_8.0\",\n",
    "# \"no_credit_bounces_last_3_months\",\n",
    "# \"category_-1.0\",\n",
    "# \"back_to_back_bounces_last_3_months\",\n",
    "# \"category_6.0\"]"
   ]
  },
  {
   "cell_type": "code",
   "execution_count": 0,
   "metadata": {
    "collapsed": true,
    "pycharm": {
     "is_executing": false
    }
   },
   "outputs": [],
   "source": [
    "# df = pd.concat([df, pd.get_dummies(df['cibil_bins'], prefix='category', dummy_na=True)], axis=1).drop(\n",
    "#     ['cibil_bins'], axis=1)\n",
    "\n",
    "\n",
    "x_train, x_test, y_train, y_test = train_test_split(x, y, test_size=0.2, random_state=42)\n",
    "\n",
    "clf_gini = tree.DecisionTreeClassifier()\n",
    "clf_gini.fit(x_train, y_train)\n",
    "\n",
    "y_pred = clf_gini.predict(x_test)\n",
    "\n",
    "print(\"Accuracy is \", accuracy_score(y_test, y_pred) * 100)\n",
    "\n",
    "tree.export_graphviz(clf_gini, out_file='tree.dot', feature_names=new_df.columns)"
   ]
  }
 ],
 "metadata": {
  "kernelspec": {
   "display_name": "Python 3",
   "language": "python",
   "name": "python3"
  },
  "language_info": {
   "codemirror_mode": {
    "name": "ipython",
    "version": 3
   },
   "file_extension": ".py",
   "mimetype": "text/x-python",
   "name": "python",
   "nbconvert_exporter": "python",
   "pygments_lexer": "ipython3",
   "version": "3.6.8"
  }
 },
 "nbformat": 4,
 "nbformat_minor": 1
}
